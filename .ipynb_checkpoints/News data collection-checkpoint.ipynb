{
 "cells": [
  {
   "cell_type": "markdown",
   "id": "hearing-inclusion",
   "metadata": {},
   "source": [
    "### Import newsapi, dotenv, json, and pandas library"
   ]
  },
  {
   "cell_type": "code",
   "execution_count": 1,
   "id": "bridal-zealand",
   "metadata": {},
   "outputs": [],
   "source": [
    "from newsapi import NewsApiClient\n",
    "import pandas as pd\n",
    "import json\n",
    "from dotenv import load_dotenv\n",
    "load_dotenv(verbose=True)\n",
    "import os\n",
    "KEY = os.getenv(\"KEY\")\n",
    "\n",
    "api = NewsApiClient(api_key=KEY)"
   ]
  },
  {
   "cell_type": "code",
   "execution_count": 2,
   "id": "broadband-shame",
   "metadata": {},
   "outputs": [
    {
     "data": {
      "text/plain": [
       "<newsapi.newsapi_client.NewsApiClient at 0x2f44902f220>"
      ]
     },
     "execution_count": 2,
     "metadata": {},
     "output_type": "execute_result"
    }
   ],
   "source": [
    "api"
   ]
  },
  {
   "cell_type": "code",
   "execution_count": 3,
   "id": "recreational-aruba",
   "metadata": {},
   "outputs": [],
   "source": [
    "all_articles = api.get_everything(    sources='bbc-news',\n",
    "                                      from_param='2021-03-11',\n",
    "                                      to='2021-03-12',\n",
    "                                      language='en')\n"
   ]
  },
  {
   "cell_type": "code",
   "execution_count": 4,
   "id": "cathedral-zoning",
   "metadata": {
    "scrolled": true
   },
   "outputs": [
    {
     "data": {
      "text/plain": [
       "{'status': 'ok',\n",
       " 'totalResults': 450,\n",
       " 'articles': [{'source': {'id': 'bbc-news', 'name': 'BBC News'},\n",
       "   'author': None,\n",
       "   'title': 'Mozambique’s president sacks top generals amid surge of insecurity',\n",
       "   'description': 'No official reason has been given for the sackings but there is growing concern that the military has been unable to prevent attacks by Islamist militants in Cabo Delgado province, in the north of the country.\\n\\nAlso in the programme: Large parts of Italy are …',\n",
       "   'url': 'https://www.bbc.co.uk/programmes/w172x2z7gy3ng1q',\n",
       "   'urlToImage': 'https://ichef.bbci.co.uk/images/ic/1200x675/p099k961.jpg',\n",
       "   'publishedAt': '2021-03-12T23:57:00Z',\n",
       "   'content': 'No official reason has been given for the sackings but there is growing concern that the military has been unable to prevent attacks by Islamist militants in Cabo Delgado province, in the north of th… [+358 chars]'},\n",
       "  {'source': {'id': 'bbc-news', 'name': 'BBC News'},\n",
       "   'author': 'https://www.facebook.com/bbcnews',\n",
       "   'title': 'Bolivia: Prosecutors order arrest of former interim leader',\n",
       "   'description': 'Prosecutors say Jeanine Áñez and former ministers took part in a coup against leader Evo Morales.',\n",
       "   'url': 'https://www.bbc.co.uk/news/world-latin-america-56381697',\n",
       "   'urlToImage': 'https://ichef.bbci.co.uk/news/1024/branded_news/4474/production/_117542571_f47ea6e0-02bd-4261-b8ae-4334b572052a.jpg',\n",
       "   'publishedAt': '2021-03-12T23:56:33Z',\n",
       "   'content': 'image captionJeanine Áñez tweeted a link to what she said was of the arrest warrant\\r\\nBolivian prosecutors have ordered the arrest of the former interim president and several former ministers.\\r\\nThey s… [+1254 chars]'},\n",
       "  {'source': {'id': 'bbc-news', 'name': 'BBC News'},\n",
       "   'author': 'https://www.facebook.com/bbcnews',\n",
       "   'title': \"Newspaper headlines: Vigils 'to defy' ban and Easter jabs for over-40s\",\n",
       "   'description': \"Developments in Sarah Everard's murder case and the planned vigils are carried in Saturday's papers.\",\n",
       "   'url': 'https://www.bbc.co.uk/news/blogs-the-papers-56382348',\n",
       "   'urlToImage': 'https://ichef.bbci.co.uk/news/1024/branded_news/E8E0/production/_117561695_index-nc.png',\n",
       "   'publishedAt': '2021-03-12T23:31:33Z',\n",
       "   'content': 'Watch the latest episode\\r\\nThe BBC News Channels press review every evening at 22:40 weekdays, 22:30 and 23:30 weekends and via the BBC iPlayer'},\n",
       "  {'source': {'id': 'bbc-news', 'name': 'BBC News'},\n",
       "   'author': 'https://www.facebook.com/bbcnews',\n",
       "   'title': 'Cartoon SuperTed set for new animation series',\n",
       "   'description': 'The teddy with magic powers was a favourite among royal princes and a generation of children.',\n",
       "   'url': 'https://www.bbc.co.uk/news/uk-wales-56011789',\n",
       "   'urlToImage': 'https://ichef.bbci.co.uk/news/1024/branded_news/8448/production/_88546833_88546832.jpg',\n",
       "   'publishedAt': '2021-03-12T23:22:58Z',\n",
       "   'content': 'By Peter ShuttleworthBBC News\\r\\nmedia captionSuperTed started with a teddy, a tea towel and a bedtime story\\r\\nHe was the teddy bear with magic powers who was a cartoon favourite among royal princes and… [+7650 chars]'},\n",
       "  {'source': {'id': 'bbc-news', 'name': 'BBC News'},\n",
       "   'author': 'https://www.facebook.com/bbcnews',\n",
       "   'title': \"Covid: Mother's Day meet-ups planned as lockdown eases\",\n",
       "   'description': 'Up to four adults can now meet in a garden and the stay-at-home rule has changed to stay local.',\n",
       "   'url': 'https://www.bbc.co.uk/news/uk-wales-56379278',\n",
       "   'urlToImage': 'https://ichef.bbci.co.uk/news/1024/branded_news/13C63/production/_117559908_charlotteandmum.jpg',\n",
       "   'publishedAt': '2021-03-12T23:11:14Z',\n",
       "   'content': \"image copyrightCharlotte Phillips\\r\\nimage captionCharlotte Phillips plans to spend time with her mother on Sunday for the first time since Christmas\\r\\nPlans for outdoor Mother's Day meet-ups are under … [+3830 chars]\"},\n",
       "  {'source': {'id': 'bbc-news', 'name': 'BBC News'},\n",
       "   'author': None,\n",
       "   'title': '2021/03/12 23:00 GMT',\n",
       "   'description': 'The latest five minute news bulletin from BBC World Service.',\n",
       "   'url': 'https://www.bbc.co.uk/programmes/w172x5pc0dlzhxd',\n",
       "   'urlToImage': 'https://ichef.bbci.co.uk/images/ic/1200x675/p060dh18.jpg',\n",
       "   'publishedAt': '2021-03-12T23:06:00Z',\n",
       "   'content': 'The latest five minute news bulletin from BBC World Service.'},\n",
       "  {'source': {'id': 'bbc-news', 'name': 'BBC News'},\n",
       "   'author': None,\n",
       "   'title': \"Newcastle 1-1 Aston Villa: Steve Bruce is 'frustrated' with missed opportunities\",\n",
       "   'description': 'Newcastle boss Steve Bruce says he is frustrated that his side missed some \"big opportunities\" in their 1-1 draw with Aston Villa.',\n",
       "   'url': 'https://www.bbc.co.uk/sport/av/football/56382525',\n",
       "   'urlToImage': 'https://ichef.bbci.co.uk/live-experience/cps/624/cpsprodpb/7EA0/production/_117561423_p099kk5v.jpg',\n",
       "   'publishedAt': '2021-03-12T23:03:51Z',\n",
       "   'content': 'Newcastle boss Steve Bruce says he is frustrated that his side missed some \"big opportunities\" in their 1-1 draw with Aston Villa. \\r\\nMATCH REPORT: Newcastle 1-1 Aston Villa'},\n",
       "  {'source': {'id': 'bbc-news', 'name': 'BBC News'},\n",
       "   'author': None,\n",
       "   'title': 'Newcastle 1-1 Aston Villa: It was an ugly game, says Villa manager Dean Smith',\n",
       "   'description': 'Aston Villa manager Dean Smith says it was an \"ugly game\" as his side conceded a late equaliser against Newcastle in a largely dull encounter at St James\\' Park.',\n",
       "   'url': 'https://www.bbc.co.uk/sport/av/football/56382521',\n",
       "   'urlToImage': 'https://ichef.bbci.co.uk/live-experience/cps/624/cpsprodpb/0970/production/_117561420_p099kjsy.jpg',\n",
       "   'publishedAt': '2021-03-12T23:02:47Z',\n",
       "   'content': 'Aston Villa manager Dean Smith says it was an \"ugly game\" as his side conceded a late equaliser against Newcastle in a largely dull encounter at St James\\' Park. \\r\\nMATCH REPORT: Newcastle 1-1 Aston Vi… [+2 chars]'},\n",
       "  {'source': {'id': 'bbc-news', 'name': 'BBC News'},\n",
       "   'author': None,\n",
       "   'title': \"Kate Zackary: Exeter's USA international on juggling work life with rugby\",\n",
       "   'description': 'BBC Sport meets Kate Zackary, the USA international juggling Premier 15s rugby and a day job working with clients on the other side of the world.',\n",
       "   'url': 'https://www.bbc.co.uk/sport/rugby-union/56359691',\n",
       "   'urlToImage': 'https://ichef.bbci.co.uk/live-experience/cps/624/cpsprodpb/11713/production/_117534417_kate_zackary_rex1.jpg',\n",
       "   'publishedAt': '2021-03-12T23:01:37Z',\n",
       "   'content': 'Kate Zackary played for the United States at the 2017 World Cup and the 2018 Sevens World Cup\\r\\n\"People joke that I never sleep,\" Kate Zackary says as she uses some rare free time between rugby and wo… [+4461 chars]'},\n",
       "  {'source': {'id': 'bbc-news', 'name': 'BBC News'},\n",
       "   'author': None,\n",
       "   'title': 'Hannah Rankin: Scot wins on welterweight debut against Kholosa Ndobayini',\n",
       "   'description': \"Scotland's Hannah Rankin makese a winning debut at welterweight as she defeated South African Kholosa Ndobayini by unanimous decision in Cape Town.\",\n",
       "   'url': 'https://www.bbc.co.uk/sport/boxing/56382020',\n",
       "   'urlToImage': 'https://ichef.bbci.co.uk/live-experience/cps/624/cpsprodpb/0D58/production/_117561430_19833826-1.jpg',\n",
       "   'publishedAt': '2021-03-12T23:00:02Z',\n",
       "   'content': \"Hannah Rankin was a worthy winner in Cape Town\\r\\nScotland's Hannah Rankin made a winning debut at welterweight as she defeated South African Kholosa Ndobayini by unanimous decision in Cape Town.\\r\\nThe … [+299 chars]\"},\n",
       "  {'source': {'id': 'bbc-news', 'name': 'BBC News'},\n",
       "   'author': None,\n",
       "   'title': \"Man City want Atletico's Felix as Aguero replacement - Saturday's gossip\",\n",
       "   'description': \"Manchester City eye a move for Atletico Madrid's Joao Felix and Cristiano Ronaldo is linked with a return to Real Madrid, plus more.\",\n",
       "   'url': 'https://www.bbc.co.uk/sport/56377963',\n",
       "   'urlToImage': 'https://ichef.bbci.co.uk/live-experience/cps/624/cpsprodpb/CC5C/production/_117561325_jf_get_gossip.jpg',\n",
       "   'publishedAt': '2021-03-12T22:43:16Z',\n",
       "   'content': \"Manchester City are eying a potential move for Atletico Madrid's 21-year-old Portugal striker Joao Felix as a possible replacement for Sergio Aguero, who is out of contract in the summer. (Eurosport)… [+2175 chars]\"},\n",
       "  {'source': {'id': 'bbc-news', 'name': 'BBC News'},\n",
       "   'author': None,\n",
       "   'title': 'Pep Guardiola: Man City boss says grass is not good at Etihad Stadium',\n",
       "   'description': 'Manchester City boss Pep Guardiola is concerned about the state of the home pitch despite his team being runaway Premier League leaders.',\n",
       "   'url': 'https://www.bbc.co.uk/sport/football/56379993',\n",
       "   'urlToImage': 'https://ichef.bbci.co.uk/live-experience/cps/624/cpsprodpb/12DB3/production/_117553277_guardiola_getty_index.jpg',\n",
       "   'publishedAt': '2021-03-12T22:37:50Z',\n",
       "   'content': 'Guardiola is unhappy with the pitch, despite his side beating Southampton 5-2 at the Etihad on Wednesday\\r\\nManchester City may be runaway Premier League leaders and chasing a quadruple, but manager Pe… [+2029 chars]'},\n",
       "  {'source': {'id': 'bbc-news', 'name': 'BBC News'},\n",
       "   'author': 'https://www.facebook.com/bbcnews',\n",
       "   'title': 'Mississippi bans trans girls from school sports',\n",
       "   'description': 'The measure, banning transgender athletes in schools, is the first anti-trans law of 2021, activists say.',\n",
       "   'url': 'https://www.bbc.co.uk/news/world-us-canada-56275274',\n",
       "   'urlToImage': 'https://ichef.bbci.co.uk/news/1024/branded_news/A3E1/production/_117535914_gettyimages-1223659575.jpg',\n",
       "   'publishedAt': '2021-03-12T22:33:01Z',\n",
       "   'content': \"image copyrightGetty Images\\r\\nimage captionMississippi Republican Governor Tate Reeves\\r\\nMississippi's governor has signed a law banning transgender athletes from competing in girls' sports at school.\\r… [+5054 chars]\"},\n",
       "  {'source': {'id': 'bbc-news', 'name': 'BBC News'},\n",
       "   'author': 'https://www.facebook.com/bbcnews',\n",
       "   'title': 'Goodbye to the original celebrity private jet',\n",
       "   'description': 'Learjet will stop production this year, having created the private jet market for the super-rich.',\n",
       "   'url': 'https://www.bbc.co.uk/news/business-56317270',\n",
       "   'urlToImage': 'https://ichef.bbci.co.uk/news/1024/branded_news/80C4/production/_117546923_learjet3.jpg',\n",
       "   'publishedAt': '2021-03-12T22:29:47Z',\n",
       "   'content': 'By Justin HarperBusiness reporter, BBC News\\r\\nimage copyrightGetty Images\\r\\nLearjet, once synonymous with private jet travel for the super-rich and famous, will stop production this year.\\r\\nIts owner Bo… [+3141 chars]'},\n",
       "  {'source': {'id': 'bbc-news', 'name': 'BBC News'},\n",
       "   'author': None,\n",
       "   'title': 'Would you scrap your car for public transport credits?',\n",
       "   'description': 'A scheme in the Midlands is encouraging people to scrap their cars to get public transport credits.',\n",
       "   'url': 'https://www.bbc.co.uk/news/av/business-56373096',\n",
       "   'urlToImage': 'https://ichef.bbci.co.uk/images/ic/400xn/p099jmzt.jpg',\n",
       "   'publishedAt': '2021-03-12T22:28:24Z',\n",
       "   'content': 'Would you scrap your car for public transport credits? Video, 00:02:13Would you scrap your car for public transport credits?'},\n",
       "  {'source': {'id': 'bbc-news', 'name': 'BBC News'},\n",
       "   'author': None,\n",
       "   'title': 'Pro14: Glasgow 30-25 Ospreys',\n",
       "   'description': 'Glasgow Warriors stage a superb second-half comeback to keep alive their Champions Cup qualification hopes alive with victory over Ospreys.',\n",
       "   'url': 'https://www.bbc.co.uk/sport/rugby-union/56381268',\n",
       "   'urlToImage': 'https://ichef.bbci.co.uk/live-experience/cps/624/cpsprodpb/F308/production/_117561226_20080164.jpg',\n",
       "   'publishedAt': '2021-03-12T22:22:51Z',\n",
       "   'content': \"Rufus McLean's score helped Glasgow hit back for victory\\r\\n<table><tr><th>Pro14: Glasgow Warriors v Ospreys</th></tr>\\r\\n<tr><td>Glasgow Warriors (9) 30</td></tr><tr><td>Tries: L Jones, McLean, Seiuli C… [+1030 chars]\"},\n",
       "  {'source': {'id': 'bbc-news', 'name': 'BBC News'},\n",
       "   'author': 'https://www.facebook.com/bbcnews',\n",
       "   'title': \"Roblox: 'We paid off our parents' mortgage making video games'\",\n",
       "   'description': 'The popularity of online gaming platform Roblox has allowed some developers to make serious money.',\n",
       "   'url': 'https://www.bbc.co.uk/news/business-56354253',\n",
       "   'urlToImage': 'https://ichef.bbci.co.uk/news/1024/branded_news/142BE/production/_117522628_benmatta.jpg',\n",
       "   'publishedAt': '2021-03-12T22:19:14Z',\n",
       "   'content': 'By Lora Jones &amp; Laura Heighton-GinnsBBC business reporters\\r\\nimage copyrightBen and Matt Horton\\r\\nimage captionBen and Matt have turned a hobby into a living\\r\\nWhen identical twins Ben and Matt Hort… [+5481 chars]'},\n",
       "  {'source': {'id': 'bbc-news', 'name': 'BBC News'},\n",
       "   'author': 'https://www.facebook.com/bbcnews',\n",
       "   'title': 'Covid: US and allies promise one billion jabs for South East Asia',\n",
       "   'description': 'The leaders of the US, Australia, India and Japan agree to deliver the vaccines by the end of 2022.',\n",
       "   'url': 'https://www.bbc.co.uk/news/world-56381104',\n",
       "   'urlToImage': 'https://ichef.bbci.co.uk/news/1024/branded_news/14128/production/_117561228_hi066195304.jpg',\n",
       "   'publishedAt': '2021-03-12T22:15:11Z',\n",
       "   'content': 'image captionThe virtual summit on Friday was chaired by US President Joe Biden\\r\\nThe leaders of the US, Australia, India and Japan have agreed to deliver one billion doses of coronavirus vaccine to m… [+4750 chars]'},\n",
       "  {'source': {'id': 'bbc-news', 'name': 'BBC News'},\n",
       "   'author': 'https://www.facebook.com/bbcnews',\n",
       "   'title': \"Amazon will not sell books that 'frame sexual identity as mental illness'\",\n",
       "   'description': 'The retail giant removes a conservative book about gender dysphoria for violating its guidelines.',\n",
       "   'url': 'https://www.bbc.co.uk/news/world-us-canada-56381862',\n",
       "   'urlToImage': 'https://ichef.bbci.co.uk/news/1024/branded_news/12954/production/_117561167_gettyimages-1231517310.jpg',\n",
       "   'publishedAt': '2021-03-12T22:14:05Z',\n",
       "   'content': 'image copyrightGetty Images\\r\\nimage captionAmazon said it removed the publication \"for violating our guidelines\"\\r\\nAmazon has said that it will not sell books that frame gender or sexual identities as … [+2402 chars]'},\n",
       "  {'source': {'id': 'bbc-news', 'name': 'BBC News'},\n",
       "   'author': None,\n",
       "   'title': 'Premier League hopes fans can return for final two rounds of games',\n",
       "   'description': 'The Premier League plans to have fans at the final two rounds of matches this season, says chief executive Richard Masters.',\n",
       "   'url': 'https://www.bbc.co.uk/sport/football/56381482',\n",
       "   'urlToImage': 'https://ichef.bbci.co.uk/live-experience/cps/624/cpsprodpb/AF19/production/_117552844_brighton.jpg',\n",
       "   'publishedAt': '2021-03-12T22:08:57Z',\n",
       "   'content': 'Up to 10,000 fans could be allowed at matches on 18-20 May and 23 May\\r\\nThe Premier League plans to have fans in grounds at the final two rounds of matches this season, says chief executive Richard Ma… [+1830 chars]'}]}"
      ]
     },
     "execution_count": 4,
     "metadata": {},
     "output_type": "execute_result"
    }
   ],
   "source": [
    "all_articles"
   ]
  },
  {
   "cell_type": "markdown",
   "id": "choice-surge",
   "metadata": {},
   "source": [
    "### Put date, title, full article, and author in a json file"
   ]
  },
  {
   "cell_type": "code",
   "execution_count": 5,
   "id": "fuzzy-sandwich",
   "metadata": {},
   "outputs": [],
   "source": [
    "news_json = []\n",
    "for i in range(len(all_articles['articles'])):\n",
    "    news_json.append({\n",
    "                \"date\": all_articles['articles'][i]['publishedAt'],\n",
    "                \"title\": all_articles['articles'][i]['title'],\n",
    "                \"full_article\": all_articles['articles'][i]['content'],\n",
    "                \"author\": all_articles['articles'][i]['author']\n",
    "            })"
   ]
  },
  {
   "cell_type": "code",
   "execution_count": 6,
   "id": "dressed-newspaper",
   "metadata": {},
   "outputs": [
    {
     "data": {
      "text/plain": [
       "20"
      ]
     },
     "execution_count": 6,
     "metadata": {},
     "output_type": "execute_result"
    }
   ],
   "source": [
    "len(news_json)"
   ]
  },
  {
   "cell_type": "code",
   "execution_count": 7,
   "id": "extreme-transcription",
   "metadata": {},
   "outputs": [
    {
     "data": {
      "text/plain": [
       "[{'date': '2021-03-12T23:57:00Z',\n",
       "  'title': 'Mozambique’s president sacks top generals amid surge of insecurity',\n",
       "  'full_article': 'No official reason has been given for the sackings but there is growing concern that the military has been unable to prevent attacks by Islamist militants in Cabo Delgado province, in the north of th… [+358 chars]',\n",
       "  'author': None},\n",
       " {'date': '2021-03-12T23:56:33Z',\n",
       "  'title': 'Bolivia: Prosecutors order arrest of former interim leader',\n",
       "  'full_article': 'image captionJeanine Áñez tweeted a link to what she said was of the arrest warrant\\r\\nBolivian prosecutors have ordered the arrest of the former interim president and several former ministers.\\r\\nThey s… [+1254 chars]',\n",
       "  'author': 'https://www.facebook.com/bbcnews'},\n",
       " {'date': '2021-03-12T23:31:33Z',\n",
       "  'title': \"Newspaper headlines: Vigils 'to defy' ban and Easter jabs for over-40s\",\n",
       "  'full_article': 'Watch the latest episode\\r\\nThe BBC News Channels press review every evening at 22:40 weekdays, 22:30 and 23:30 weekends and via the BBC iPlayer',\n",
       "  'author': 'https://www.facebook.com/bbcnews'},\n",
       " {'date': '2021-03-12T23:22:58Z',\n",
       "  'title': 'Cartoon SuperTed set for new animation series',\n",
       "  'full_article': 'By Peter ShuttleworthBBC News\\r\\nmedia captionSuperTed started with a teddy, a tea towel and a bedtime story\\r\\nHe was the teddy bear with magic powers who was a cartoon favourite among royal princes and… [+7650 chars]',\n",
       "  'author': 'https://www.facebook.com/bbcnews'},\n",
       " {'date': '2021-03-12T23:11:14Z',\n",
       "  'title': \"Covid: Mother's Day meet-ups planned as lockdown eases\",\n",
       "  'full_article': \"image copyrightCharlotte Phillips\\r\\nimage captionCharlotte Phillips plans to spend time with her mother on Sunday for the first time since Christmas\\r\\nPlans for outdoor Mother's Day meet-ups are under … [+3830 chars]\",\n",
       "  'author': 'https://www.facebook.com/bbcnews'},\n",
       " {'date': '2021-03-12T23:06:00Z',\n",
       "  'title': '2021/03/12 23:00 GMT',\n",
       "  'full_article': 'The latest five minute news bulletin from BBC World Service.',\n",
       "  'author': None},\n",
       " {'date': '2021-03-12T23:03:51Z',\n",
       "  'title': \"Newcastle 1-1 Aston Villa: Steve Bruce is 'frustrated' with missed opportunities\",\n",
       "  'full_article': 'Newcastle boss Steve Bruce says he is frustrated that his side missed some \"big opportunities\" in their 1-1 draw with Aston Villa. \\r\\nMATCH REPORT: Newcastle 1-1 Aston Villa',\n",
       "  'author': None},\n",
       " {'date': '2021-03-12T23:02:47Z',\n",
       "  'title': 'Newcastle 1-1 Aston Villa: It was an ugly game, says Villa manager Dean Smith',\n",
       "  'full_article': 'Aston Villa manager Dean Smith says it was an \"ugly game\" as his side conceded a late equaliser against Newcastle in a largely dull encounter at St James\\' Park. \\r\\nMATCH REPORT: Newcastle 1-1 Aston Vi… [+2 chars]',\n",
       "  'author': None},\n",
       " {'date': '2021-03-12T23:01:37Z',\n",
       "  'title': \"Kate Zackary: Exeter's USA international on juggling work life with rugby\",\n",
       "  'full_article': 'Kate Zackary played for the United States at the 2017 World Cup and the 2018 Sevens World Cup\\r\\n\"People joke that I never sleep,\" Kate Zackary says as she uses some rare free time between rugby and wo… [+4461 chars]',\n",
       "  'author': None},\n",
       " {'date': '2021-03-12T23:00:02Z',\n",
       "  'title': 'Hannah Rankin: Scot wins on welterweight debut against Kholosa Ndobayini',\n",
       "  'full_article': \"Hannah Rankin was a worthy winner in Cape Town\\r\\nScotland's Hannah Rankin made a winning debut at welterweight as she defeated South African Kholosa Ndobayini by unanimous decision in Cape Town.\\r\\nThe … [+299 chars]\",\n",
       "  'author': None},\n",
       " {'date': '2021-03-12T22:43:16Z',\n",
       "  'title': \"Man City want Atletico's Felix as Aguero replacement - Saturday's gossip\",\n",
       "  'full_article': \"Manchester City are eying a potential move for Atletico Madrid's 21-year-old Portugal striker Joao Felix as a possible replacement for Sergio Aguero, who is out of contract in the summer. (Eurosport)… [+2175 chars]\",\n",
       "  'author': None},\n",
       " {'date': '2021-03-12T22:37:50Z',\n",
       "  'title': 'Pep Guardiola: Man City boss says grass is not good at Etihad Stadium',\n",
       "  'full_article': 'Guardiola is unhappy with the pitch, despite his side beating Southampton 5-2 at the Etihad on Wednesday\\r\\nManchester City may be runaway Premier League leaders and chasing a quadruple, but manager Pe… [+2029 chars]',\n",
       "  'author': None},\n",
       " {'date': '2021-03-12T22:33:01Z',\n",
       "  'title': 'Mississippi bans trans girls from school sports',\n",
       "  'full_article': \"image copyrightGetty Images\\r\\nimage captionMississippi Republican Governor Tate Reeves\\r\\nMississippi's governor has signed a law banning transgender athletes from competing in girls' sports at school.\\r… [+5054 chars]\",\n",
       "  'author': 'https://www.facebook.com/bbcnews'},\n",
       " {'date': '2021-03-12T22:29:47Z',\n",
       "  'title': 'Goodbye to the original celebrity private jet',\n",
       "  'full_article': 'By Justin HarperBusiness reporter, BBC News\\r\\nimage copyrightGetty Images\\r\\nLearjet, once synonymous with private jet travel for the super-rich and famous, will stop production this year.\\r\\nIts owner Bo… [+3141 chars]',\n",
       "  'author': 'https://www.facebook.com/bbcnews'},\n",
       " {'date': '2021-03-12T22:28:24Z',\n",
       "  'title': 'Would you scrap your car for public transport credits?',\n",
       "  'full_article': 'Would you scrap your car for public transport credits? Video, 00:02:13Would you scrap your car for public transport credits?',\n",
       "  'author': None},\n",
       " {'date': '2021-03-12T22:22:51Z',\n",
       "  'title': 'Pro14: Glasgow 30-25 Ospreys',\n",
       "  'full_article': \"Rufus McLean's score helped Glasgow hit back for victory\\r\\n<table><tr><th>Pro14: Glasgow Warriors v Ospreys</th></tr>\\r\\n<tr><td>Glasgow Warriors (9) 30</td></tr><tr><td>Tries: L Jones, McLean, Seiuli C… [+1030 chars]\",\n",
       "  'author': None},\n",
       " {'date': '2021-03-12T22:19:14Z',\n",
       "  'title': \"Roblox: 'We paid off our parents' mortgage making video games'\",\n",
       "  'full_article': 'By Lora Jones &amp; Laura Heighton-GinnsBBC business reporters\\r\\nimage copyrightBen and Matt Horton\\r\\nimage captionBen and Matt have turned a hobby into a living\\r\\nWhen identical twins Ben and Matt Hort… [+5481 chars]',\n",
       "  'author': 'https://www.facebook.com/bbcnews'},\n",
       " {'date': '2021-03-12T22:15:11Z',\n",
       "  'title': 'Covid: US and allies promise one billion jabs for South East Asia',\n",
       "  'full_article': 'image captionThe virtual summit on Friday was chaired by US President Joe Biden\\r\\nThe leaders of the US, Australia, India and Japan have agreed to deliver one billion doses of coronavirus vaccine to m… [+4750 chars]',\n",
       "  'author': 'https://www.facebook.com/bbcnews'},\n",
       " {'date': '2021-03-12T22:14:05Z',\n",
       "  'title': \"Amazon will not sell books that 'frame sexual identity as mental illness'\",\n",
       "  'full_article': 'image copyrightGetty Images\\r\\nimage captionAmazon said it removed the publication \"for violating our guidelines\"\\r\\nAmazon has said that it will not sell books that frame gender or sexual identities as … [+2402 chars]',\n",
       "  'author': 'https://www.facebook.com/bbcnews'},\n",
       " {'date': '2021-03-12T22:08:57Z',\n",
       "  'title': 'Premier League hopes fans can return for final two rounds of games',\n",
       "  'full_article': 'Up to 10,000 fans could be allowed at matches on 18-20 May and 23 May\\r\\nThe Premier League plans to have fans in grounds at the final two rounds of matches this season, says chief executive Richard Ma… [+1830 chars]',\n",
       "  'author': None}]"
      ]
     },
     "execution_count": 7,
     "metadata": {},
     "output_type": "execute_result"
    }
   ],
   "source": [
    "news_json"
   ]
  },
  {
   "cell_type": "code",
   "execution_count": 9,
   "id": "defensive-swaziland",
   "metadata": {},
   "outputs": [],
   "source": [
    "# create a file and dump the json to the file\n",
    "with open(\"./newsData/news.json\", 'w') as outfile:\n",
    "    json.dump(news_json, outfile)"
   ]
  }
 ],
 "metadata": {
  "kernelspec": {
   "display_name": "Python 3",
   "language": "python",
   "name": "python3"
  },
  "language_info": {
   "codemirror_mode": {
    "name": "ipython",
    "version": 3
   },
   "file_extension": ".py",
   "mimetype": "text/x-python",
   "name": "python",
   "nbconvert_exporter": "python",
   "pygments_lexer": "ipython3",
   "version": "3.8.0"
  }
 },
 "nbformat": 4,
 "nbformat_minor": 5
}
